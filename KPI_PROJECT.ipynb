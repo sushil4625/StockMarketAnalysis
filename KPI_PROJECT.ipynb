{
  "nbformat": 4,
  "nbformat_minor": 0,
  "metadata": {
    "colab": {
      "provenance": [],
      "include_colab_link": true
    },
    "kernelspec": {
      "name": "python3",
      "display_name": "Python 3"
    },
    "language_info": {
      "name": "python"
    }
  },
  "cells": [
    {
      "cell_type": "markdown",
      "metadata": {
        "id": "view-in-github",
        "colab_type": "text"
      },
      "source": [
        "<a href=\"https://colab.research.google.com/github/sushil4625/StockMarketAnalysis/blob/main/KPI_PROJECT.ipynb\" target=\"_parent\"><img src=\"https://colab.research.google.com/assets/colab-badge.svg\" alt=\"Open In Colab\"/></a>"
      ]
    },
    {
      "cell_type": "code",
      "source": [
        "\n",
        "!pip install pyspark\n",
        "!pip install -U -q PyDrive\n",
        "!apt install openjdk-8-jdk-headless -qq\n",
        "import os\n",
        "os.environ[\"JAVA_HOME\"] = \"/usr/lib/jvm/java-8-openjdk-amd64\"\n"
      ],
      "metadata": {
        "colab": {
          "base_uri": "https://localhost:8080/"
        },
        "id": "xn5vsEysJ7aS",
        "outputId": "7c833908-1d24-46f2-cd93-4ad90ac6e29f"
      },
      "execution_count": null,
      "outputs": [
        {
          "output_type": "stream",
          "name": "stdout",
          "text": [
            "Looking in indexes: https://pypi.org/simple, https://us-python.pkg.dev/colab-wheels/public/simple/\n",
            "Requirement already satisfied: pyspark in /usr/local/lib/python3.8/dist-packages (3.3.2)\n",
            "Requirement already satisfied: py4j==0.10.9.5 in /usr/local/lib/python3.8/dist-packages (from pyspark) (0.10.9.5)\n",
            "openjdk-8-jdk-headless is already the newest version (8u362-ga-0ubuntu1~20.04.1).\n",
            "0 upgraded, 0 newly installed, 0 to remove and 22 not upgraded.\n"
          ]
        }
      ]
    },
    {
      "cell_type": "code",
      "source": [
        "from pyspark.sql import SparkSession\n",
        "from pyspark import SparkContext, SparkConf\n",
        "\n",
        "# create the session\n",
        "conf = SparkConf().set(\"spark.ui.port\", \"4050\")\n"
      ],
      "metadata": {
        "id": "btWbaJ_MLtSG"
      },
      "execution_count": null,
      "outputs": []
    },
    {
      "cell_type": "code",
      "source": [
        "!wget https://bin.equinox.io/c/4VmDzA7iaHb/ngrok-stable-linux-amd64.zip\n",
        "!unzip ngrok-stable-linux-amd64.zip\n",
        "get_ipython().system_raw('./ngrok http 4050 &')\n",
        "!sleep 10\n",
        "!curl -s http://localhost:4040/api/tunnels | python3 -c \\\n",
        "    \"import sys, json; print(json.load(sys.stdin)['tunnels'][0]['public_url'])\"\n",
        "\n"
      ],
      "metadata": {
        "colab": {
          "base_uri": "https://localhost:8080/"
        },
        "id": "TEAEVhmkMAaG",
        "outputId": "907db662-65fb-4d11-9eaf-fba5084b6cc0"
      },
      "execution_count": null,
      "outputs": [
        {
          "output_type": "stream",
          "name": "stdout",
          "text": [
            "--2023-03-08 17:08:51--  https://bin.equinox.io/c/4VmDzA7iaHb/ngrok-stable-linux-amd64.zip\n",
            "Resolving bin.equinox.io (bin.equinox.io)... 52.202.168.65, 54.237.133.81, 54.161.241.46, ...\n",
            "Connecting to bin.equinox.io (bin.equinox.io)|52.202.168.65|:443... connected.\n",
            "HTTP request sent, awaiting response... 200 OK\n",
            "Length: 13921656 (13M) [application/octet-stream]\n",
            "Saving to: ‘ngrok-stable-linux-amd64.zip’\n",
            "\n",
            "\r          ngrok-sta   0%[                    ]       0  --.-KB/s               \rngrok-stable-linux- 100%[===================>]  13.28M  73.2MB/s    in 0.2s    \n",
            "\n",
            "2023-03-08 17:08:52 (73.2 MB/s) - ‘ngrok-stable-linux-amd64.zip’ saved [13921656/13921656]\n",
            "\n",
            "Archive:  ngrok-stable-linux-amd64.zip\n",
            "  inflating: ngrok                   \n",
            "Traceback (most recent call last):\n",
            "  File \"<string>\", line 1, in <module>\n",
            "  File \"/usr/lib/python3.8/json/__init__.py\", line 293, in load\n",
            "    return loads(fp.read(),\n",
            "  File \"/usr/lib/python3.8/json/__init__.py\", line 357, in loads\n",
            "    return _default_decoder.decode(s)\n",
            "  File \"/usr/lib/python3.8/json/decoder.py\", line 337, in decode\n",
            "    obj, end = self.raw_decode(s, idx=_w(s, 0).end())\n",
            "  File \"/usr/lib/python3.8/json/decoder.py\", line 355, in raw_decode\n",
            "    raise JSONDecodeError(\"Expecting value\", s, err.value) from None\n",
            "json.decoder.JSONDecodeError: Expecting value: line 1 column 1 (char 0)\n"
          ]
        }
      ]
    },
    {
      "cell_type": "code",
      "execution_count": null,
      "metadata": {
        "colab": {
          "base_uri": "https://localhost:8080/"
        },
        "id": "7h0M-6C2IJjV",
        "outputId": "46da32d4-261f-47f9-ca40-09487dd50175"
      },
      "outputs": [
        {
          "output_type": "stream",
          "name": "stdout",
          "text": [
            "+---+--------------------+--------------------+-------------+----------+-----+-----+-----+-----+---------+---------+------+-------+--------+---------------+---------------+---------------+--------------+\n",
            "|_c0|              Sector|             Company|          BSE|      Date| Open| High|  Low|Close|Adj Close|   Volume|Low_52|High_52|PE_Ratio|  Total_Revenue|   Gross_Profit|     Market_Cap|   Net_Company|\n",
            "+---+--------------------+--------------------+-------------+----------+-----+-----+-----+-----+---------+---------+------+-------+--------+---------------+---------------+---------------+--------------+\n",
            "|  0|Pharmaceuticals &...|Aurobindo Pharma ...|AUROPHARMA.BO|02-01-2012|43.00|43.45|42.53|43.08|    39.92|113202.00|281.15|1023.10|   16.81|192259300000.00|105132900000.00|273374609408.00|23647300000.00|\n",
            "|  1|Pharmaceuticals &...|Aurobindo Pharma ...|AUROPHARMA.BO|03-01-2012|43.53|45.88|43.45|45.50|    42.16|277525.00|281.15|1023.10|   16.81|192259300000.00|105132900000.00|273374609408.00|23647300000.00|\n",
            "|  2|Pharmaceuticals &...|Aurobindo Pharma ...|AUROPHARMA.BO|04-01-2012|45.50|45.63|44.25|44.92|    41.63|113702.00|281.15|1023.10|   16.81|192259300000.00|105132900000.00|273374609408.00|23647300000.00|\n",
            "|  3|Pharmaceuticals &...|Aurobindo Pharma ...|AUROPHARMA.BO|05-01-2012|44.97|46.17|44.95|45.85|    42.49|113886.00|281.15|1023.10|   16.81|192259300000.00|105132900000.00|273374609408.00|23647300000.00|\n",
            "|  4|Pharmaceuticals &...|Aurobindo Pharma ...|AUROPHARMA.BO|06-01-2012|45.83|46.75|44.67|45.03|    41.72|277525.00|281.15|1023.10|   16.81|192259300000.00|105132900000.00|273374609408.00|23647300000.00|\n",
            "|  5|Pharmaceuticals &...|Aurobindo Pharma ...|AUROPHARMA.BO|09-01-2012|45.40|48.60|45.13|48.25|    44.71|277525.00|281.15|1023.10|   16.81|192259300000.00|105132900000.00|273374609408.00|23647300000.00|\n",
            "|  6|Pharmaceuticals &...|Aurobindo Pharma ...|AUROPHARMA.BO|10-01-2012|48.83|50.95|48.50|50.50|    46.80|277525.00|281.15|1023.10|   16.81|192259300000.00|105132900000.00|273374609408.00|23647300000.00|\n",
            "|  7|Pharmaceuticals &...|Aurobindo Pharma ...|AUROPHARMA.BO|11-01-2012|51.13|54.70|51.00|53.83|    49.88|277525.00|281.15|1023.10|   16.81|192259300000.00|105132900000.00|273374609408.00|23647300000.00|\n",
            "|  8|Pharmaceuticals &...|Aurobindo Pharma ...|AUROPHARMA.BO|12-01-2012|53.70|54.30|52.05|52.55|    48.70|272564.00|281.15|1023.10|   16.81|192259300000.00|105132900000.00|273374609408.00|23647300000.00|\n",
            "|  9|Pharmaceuticals &...|Aurobindo Pharma ...|AUROPHARMA.BO|13-01-2012|53.00|54.20|52.50|53.65|    49.71|186600.00|281.15|1023.10|   16.81|192259300000.00|105132900000.00|273374609408.00|23647300000.00|\n",
            "| 10|Pharmaceuticals &...|Aurobindo Pharma ...|AUROPHARMA.BO|16-01-2012|53.75|53.75|51.85|52.45|    48.60|160066.00|281.15|1023.10|   16.81|192259300000.00|105132900000.00|273374609408.00|23647300000.00|\n",
            "| 11|Pharmaceuticals &...|Aurobindo Pharma ...|AUROPHARMA.BO|17-01-2012|52.78|52.88|51.00|51.35|    47.58|277525.00|281.15|1023.10|   16.81|192259300000.00|105132900000.00|273374609408.00|23647300000.00|\n",
            "| 12|Pharmaceuticals &...|Aurobindo Pharma ...|AUROPHARMA.BO|18-01-2012|51.72|51.72|48.72|49.00|    45.41|254676.00|281.15|1023.10|   16.81|192259300000.00|105132900000.00|273374609408.00|23647300000.00|\n",
            "| 13|Pharmaceuticals &...|Aurobindo Pharma ...|AUROPHARMA.BO|19-01-2012|49.50|49.85|47.78|48.42|    44.87|277525.00|281.15|1023.10|   16.81|192259300000.00|105132900000.00|273374609408.00|23647300000.00|\n",
            "| 14|Pharmaceuticals &...|Aurobindo Pharma ...|AUROPHARMA.BO|20-01-2012|48.97|51.63|48.85|50.05|    46.38|277525.00|281.15|1023.10|   16.81|192259300000.00|105132900000.00|273374609408.00|23647300000.00|\n",
            "| 15|Pharmaceuticals &...|Aurobindo Pharma ...|AUROPHARMA.BO|23-01-2012|50.47|51.63|49.50|49.88|    46.22|277525.00|281.15|1023.10|   16.81|192259300000.00|105132900000.00|273374609408.00|23647300000.00|\n",
            "| 16|Pharmaceuticals &...|Aurobindo Pharma ...|AUROPHARMA.BO|24-01-2012|50.50|51.45|49.78|50.78|    47.05|256984.00|281.15|1023.10|   16.81|192259300000.00|105132900000.00|273374609408.00|23647300000.00|\n",
            "| 17|Pharmaceuticals &...|Aurobindo Pharma ...|AUROPHARMA.BO|25-01-2012|51.40|55.47|51.03|55.08|    51.04|277525.00|281.15|1023.10|   16.81|192259300000.00|105132900000.00|273374609408.00|23647300000.00|\n",
            "| 18|Pharmaceuticals &...|Aurobindo Pharma ...|AUROPHARMA.BO|27-01-2012|54.05|57.97|54.00|56.45|    52.31|277525.00|281.15|1023.10|   16.81|192259300000.00|105132900000.00|273374609408.00|23647300000.00|\n",
            "| 19|Pharmaceuticals &...|Aurobindo Pharma ...|AUROPHARMA.BO|30-01-2012|57.30|57.30|53.13|53.60|    49.67|277525.00|281.15|1023.10|   16.81|192259300000.00|105132900000.00|273374609408.00|23647300000.00|\n",
            "+---+--------------------+--------------------+-------------+----------+-----+-----+-----+-----+---------+---------+------+-------+--------+---------------+---------------+---------------+--------------+\n",
            "only showing top 20 rows\n",
            "\n",
            "+---+--------------------+--------------------+-------------+----------+-----+-----+-----+-----+---------+---------+------+-------+--------+---------------+---------------+---------------+--------------+\n",
            "|_c0|              Sector|             Company|          BSE|      Date| Open| High|  Low|Close|Adj Close|   Volume|Low_52|High_52|PE_Ratio|  Total_Revenue|   Gross_Profit|     Market_Cap|   Net_Company|\n",
            "+---+--------------------+--------------------+-------------+----------+-----+-----+-----+-----+---------+---------+------+-------+--------+---------------+---------------+---------------+--------------+\n",
            "|  0|Pharmaceuticals &...|Aurobindo Pharma ...|AUROPHARMA.BO|02-01-2012|43.00|43.45|42.53|43.08|    39.92|113202.00|281.15|1023.10|   16.81|192259300000.00|105132900000.00|273374609408.00|23647300000.00|\n",
            "|  1|Pharmaceuticals &...|Aurobindo Pharma ...|AUROPHARMA.BO|03-01-2012|43.53|45.88|43.45|45.50|    42.16|277525.00|281.15|1023.10|   16.81|192259300000.00|105132900000.00|273374609408.00|23647300000.00|\n",
            "|  2|Pharmaceuticals &...|Aurobindo Pharma ...|AUROPHARMA.BO|04-01-2012|45.50|45.63|44.25|44.92|    41.63|113702.00|281.15|1023.10|   16.81|192259300000.00|105132900000.00|273374609408.00|23647300000.00|\n",
            "|  3|Pharmaceuticals &...|Aurobindo Pharma ...|AUROPHARMA.BO|05-01-2012|44.97|46.17|44.95|45.85|    42.49|113886.00|281.15|1023.10|   16.81|192259300000.00|105132900000.00|273374609408.00|23647300000.00|\n",
            "|  4|Pharmaceuticals &...|Aurobindo Pharma ...|AUROPHARMA.BO|06-01-2012|45.83|46.75|44.67|45.03|    41.72|277525.00|281.15|1023.10|   16.81|192259300000.00|105132900000.00|273374609408.00|23647300000.00|\n",
            "|  5|Pharmaceuticals &...|Aurobindo Pharma ...|AUROPHARMA.BO|09-01-2012|45.40|48.60|45.13|48.25|    44.71|277525.00|281.15|1023.10|   16.81|192259300000.00|105132900000.00|273374609408.00|23647300000.00|\n",
            "|  6|Pharmaceuticals &...|Aurobindo Pharma ...|AUROPHARMA.BO|10-01-2012|48.83|50.95|48.50|50.50|    46.80|277525.00|281.15|1023.10|   16.81|192259300000.00|105132900000.00|273374609408.00|23647300000.00|\n",
            "|  7|Pharmaceuticals &...|Aurobindo Pharma ...|AUROPHARMA.BO|11-01-2012|51.13|54.70|51.00|53.83|    49.88|277525.00|281.15|1023.10|   16.81|192259300000.00|105132900000.00|273374609408.00|23647300000.00|\n",
            "|  8|Pharmaceuticals &...|Aurobindo Pharma ...|AUROPHARMA.BO|12-01-2012|53.70|54.30|52.05|52.55|    48.70|272564.00|281.15|1023.10|   16.81|192259300000.00|105132900000.00|273374609408.00|23647300000.00|\n",
            "|  9|Pharmaceuticals &...|Aurobindo Pharma ...|AUROPHARMA.BO|13-01-2012|53.00|54.20|52.50|53.65|    49.71|186600.00|281.15|1023.10|   16.81|192259300000.00|105132900000.00|273374609408.00|23647300000.00|\n",
            "| 10|Pharmaceuticals &...|Aurobindo Pharma ...|AUROPHARMA.BO|16-01-2012|53.75|53.75|51.85|52.45|    48.60|160066.00|281.15|1023.10|   16.81|192259300000.00|105132900000.00|273374609408.00|23647300000.00|\n",
            "| 11|Pharmaceuticals &...|Aurobindo Pharma ...|AUROPHARMA.BO|17-01-2012|52.78|52.88|51.00|51.35|    47.58|277525.00|281.15|1023.10|   16.81|192259300000.00|105132900000.00|273374609408.00|23647300000.00|\n",
            "| 12|Pharmaceuticals &...|Aurobindo Pharma ...|AUROPHARMA.BO|18-01-2012|51.72|51.72|48.72|49.00|    45.41|254676.00|281.15|1023.10|   16.81|192259300000.00|105132900000.00|273374609408.00|23647300000.00|\n",
            "| 13|Pharmaceuticals &...|Aurobindo Pharma ...|AUROPHARMA.BO|19-01-2012|49.50|49.85|47.78|48.42|    44.87|277525.00|281.15|1023.10|   16.81|192259300000.00|105132900000.00|273374609408.00|23647300000.00|\n",
            "| 14|Pharmaceuticals &...|Aurobindo Pharma ...|AUROPHARMA.BO|20-01-2012|48.97|51.63|48.85|50.05|    46.38|277525.00|281.15|1023.10|   16.81|192259300000.00|105132900000.00|273374609408.00|23647300000.00|\n",
            "| 15|Pharmaceuticals &...|Aurobindo Pharma ...|AUROPHARMA.BO|23-01-2012|50.47|51.63|49.50|49.88|    46.22|277525.00|281.15|1023.10|   16.81|192259300000.00|105132900000.00|273374609408.00|23647300000.00|\n",
            "| 16|Pharmaceuticals &...|Aurobindo Pharma ...|AUROPHARMA.BO|24-01-2012|50.50|51.45|49.78|50.78|    47.05|256984.00|281.15|1023.10|   16.81|192259300000.00|105132900000.00|273374609408.00|23647300000.00|\n",
            "| 17|Pharmaceuticals &...|Aurobindo Pharma ...|AUROPHARMA.BO|25-01-2012|51.40|55.47|51.03|55.08|    51.04|277525.00|281.15|1023.10|   16.81|192259300000.00|105132900000.00|273374609408.00|23647300000.00|\n",
            "| 18|Pharmaceuticals &...|Aurobindo Pharma ...|AUROPHARMA.BO|27-01-2012|54.05|57.97|54.00|56.45|    52.31|277525.00|281.15|1023.10|   16.81|192259300000.00|105132900000.00|273374609408.00|23647300000.00|\n",
            "| 19|Pharmaceuticals &...|Aurobindo Pharma ...|AUROPHARMA.BO|30-01-2012|57.30|57.30|53.13|53.60|    49.67|277525.00|281.15|1023.10|   16.81|192259300000.00|105132900000.00|273374609408.00|23647300000.00|\n",
            "+---+--------------------+--------------------+-------------+----------+-----+-----+-----+-----+---------+---------+------+-------+--------+---------------+---------------+---------------+--------------+\n",
            "only showing top 20 rows\n",
            "\n",
            "+---+--------------------+--------------------+-------------+----------+-----+-----+-----+-----+---------+---------+------+-------+--------+---------------+---------------+---------------+--------------+\n",
            "|_c0|              Sector|             Company|          BSE|      Date| Open| High|  Low|Close|Adj Close|   Volume|Low_52|High_52|PE_Ratio|  Total_Revenue|   Gross_Profit|     Market_Cap|   Net_Company|\n",
            "+---+--------------------+--------------------+-------------+----------+-----+-----+-----+-----+---------+---------+------+-------+--------+---------------+---------------+---------------+--------------+\n",
            "|  0|Pharmaceuticals &...|Aurobindo Pharma ...|AUROPHARMA.BO|02-01-2012|43.00|43.45|42.53|43.08|    39.92|113202.00|281.15|1023.10|   16.81|192259300000.00|105132900000.00|273374609408.00|23647300000.00|\n",
            "|  1|Pharmaceuticals &...|Aurobindo Pharma ...|AUROPHARMA.BO|03-01-2012|43.53|45.88|43.45|45.50|    42.16|277525.00|281.15|1023.10|   16.81|192259300000.00|105132900000.00|273374609408.00|23647300000.00|\n",
            "|  2|Pharmaceuticals &...|Aurobindo Pharma ...|AUROPHARMA.BO|04-01-2012|45.50|45.63|44.25|44.92|    41.63|113702.00|281.15|1023.10|   16.81|192259300000.00|105132900000.00|273374609408.00|23647300000.00|\n",
            "|  3|Pharmaceuticals &...|Aurobindo Pharma ...|AUROPHARMA.BO|05-01-2012|44.97|46.17|44.95|45.85|    42.49|113886.00|281.15|1023.10|   16.81|192259300000.00|105132900000.00|273374609408.00|23647300000.00|\n",
            "|  4|Pharmaceuticals &...|Aurobindo Pharma ...|AUROPHARMA.BO|06-01-2012|45.83|46.75|44.67|45.03|    41.72|277525.00|281.15|1023.10|   16.81|192259300000.00|105132900000.00|273374609408.00|23647300000.00|\n",
            "+---+--------------------+--------------------+-------------+----------+-----+-----+-----+-----+---------+---------+------+-------+--------+---------------+---------------+---------------+--------------+\n",
            "only showing top 5 rows\n",
            "\n",
            "+--------------------+--------+---------+\n",
            "|              sector|open_day|close_day|\n",
            "+--------------------+--------+---------+\n",
            "|          Automobile| 1595.00|  1071.55|\n",
            "|Fast Moving Consu...|  129.00|  2828.20|\n",
            "|                  IT|  165.00|  2211.52|\n",
            "|Pharmaceuticals &...|   43.00|   404.60|\n",
            "+--------------------+--------+---------+\n",
            "\n",
            "+--------------------+--------+---------+\n",
            "|             Company|open_day|close_day|\n",
            "+--------------------+--------+---------+\n",
            "|    ABBOTT INDIA LTD| 1469.95|  1761.21|\n",
            "|   ASHOK LEYLAND LTD|   23.00|   145.00|\n",
            "|Asian Paints Limited|  258.00|  2828.20|\n",
            "|Aurobindo Pharma ...|   43.00|   466.50|\n",
            "|      BAJAJ AUTO LTD| 1595.00|  3733.85|\n",
            "|BHARAT IMMUNOLOGI...|    7.98|    24.04|\n",
            "|          BIOCON LTD|   45.90|   226.45|\n",
            "|BIOFIL CHEMICALS ...|    5.50|    44.68|\n",
            "|BRITANNIA INDUSTR...|  222.50|  4414.35|\n",
            "|          CIPLA LTD |  320.25|   881.05|\n",
            "|     DABUR INDIA LTD|  100.15|   534.85|\n",
            "|Divi's Laboratori...|  392.42|  1761.21|\n",
            "|   EICHER MOTORS LTD|  148.20|  3129.35|\n",
            "|    FORCE MOTORS LTD|  438.50|  1253.65|\n",
            "|GLENMARK PHARMACE...|  292.05|   421.20|\n",
            "|GODREJ CONSUMER P...|  129.00|   925.90|\n",
            "|HCL TECHNOLOGIES LTD|   96.81|  1119.15|\n",
            "|HINDUSTAN MOTORS LTD|    8.60|    13.72|\n",
            "|HINDUSTAN UNILEVE...|  408.00|  2470.05|\n",
            "|Hatsun Agro Produ...|   47.21|   897.00|\n",
            "+--------------------+--------+---------+\n",
            "only showing top 20 rows\n",
            "\n",
            "+--------------------+--------------------+--------+---------+\n",
            "|             Company|              sector|open_day|close_day|\n",
            "+--------------------+--------------------+--------+---------+\n",
            "|    ABBOTT INDIA LTD|Pharmaceuticals &...| 1469.95|  1761.21|\n",
            "|   ASHOK LEYLAND LTD|          Automobile|   23.00|   145.00|\n",
            "|Asian Paints Limited|Fast Moving Consu...|  258.00|  2828.20|\n",
            "|Aurobindo Pharma ...|Pharmaceuticals &...|   43.00|   466.50|\n",
            "|      BAJAJ AUTO LTD|          Automobile| 1595.00|  3733.85|\n",
            "|BHARAT IMMUNOLOGI...|Pharmaceuticals &...|    7.98|    24.04|\n",
            "|          BIOCON LTD|Pharmaceuticals &...|   45.90|   226.45|\n",
            "|BIOFIL CHEMICALS ...|Pharmaceuticals &...|    5.50|    44.68|\n",
            "|BRITANNIA INDUSTR...|Fast Moving Consu...|  222.50|  4414.35|\n",
            "|          CIPLA LTD |Pharmaceuticals &...|  320.25|   881.05|\n",
            "|     DABUR INDIA LTD|Fast Moving Consu...|  100.15|   534.85|\n",
            "|Divi's Laboratori...|Pharmaceuticals &...|  392.42|  1761.21|\n",
            "|   EICHER MOTORS LTD|          Automobile|  148.20|  3129.35|\n",
            "|    FORCE MOTORS LTD|          Automobile|  438.50|  1253.65|\n",
            "|GLENMARK PHARMACE...|Pharmaceuticals &...|  292.05|   421.20|\n",
            "|GODREJ CONSUMER P...|Fast Moving Consu...|  129.00|   925.90|\n",
            "|HCL TECHNOLOGIES LTD|                  IT|   96.81|  1119.15|\n",
            "|HINDUSTAN MOTORS LTD|          Automobile|    8.60|    13.72|\n",
            "|HINDUSTAN UNILEVE...|Fast Moving Consu...|  408.00|  2470.05|\n",
            "|Hatsun Agro Produ...|Fast Moving Consu...|   47.21|   897.00|\n",
            "+--------------------+--------------------+--------+---------+\n",
            "only showing top 20 rows\n",
            "\n",
            "+--------------------+--------------------+--------+---------+------------------+\n",
            "|             Company|              sector|open_day|close_day| Percentage_Change|\n",
            "+--------------------+--------------------+--------+---------+------------------+\n",
            "|    ABBOTT INDIA LTD|Pharmaceuticals &...| 1469.95|  1761.21|19.814279397258407|\n",
            "|   ASHOK LEYLAND LTD|          Automobile|   23.00|   145.00| 530.4347826086956|\n",
            "|Asian Paints Limited|Fast Moving Consu...|  258.00|  2828.20| 996.2015503875967|\n",
            "|Aurobindo Pharma ...|Pharmaceuticals &...|   43.00|   466.50| 984.8837209302326|\n",
            "|      BAJAJ AUTO LTD|          Automobile| 1595.00|  3733.85|134.09717868338558|\n",
            "+--------------------+--------------------+--------+---------+------------------+\n",
            "only showing top 5 rows\n",
            "\n"
          ]
        }
      ],
      "source": [
        "from pyspark.sql import SparkSession\n",
        "spark = SparkSession.builder.getOrCreate()\n",
        "data= spark.read.option(\"header\",\"True\").csv(\"/content/Merged_Data1.csv\")\n",
        "data.show()\n",
        "data.createOrReplaceTempView(\"data\")\n",
        "spark.sql(\"select * from data where sector is not NULL\" ).show()\n",
        "clean_data= spark.sql(\"select * from data where sector is not null\" )\n",
        "clean_data.show(5)\n",
        "clean_data.createOrReplaceTempView(\"clean_data\")\n",
        "spark.sql(\"SELECT sector,FIRST(Open) as open_day, LAST(Close) as close_day from clean_data group by sector \").show()\n",
        "spark.sql(\"SELECT Company,FIRST(Open) as open_day, LAST(Close) as close_day from clean_data group by Company\").show()\n",
        "spark.sql(\"SELECT Company,sector,FIRST(Open) as open_day, LAST(Close) as close_day from clean_data group by Company,sector \").show()\n",
        "final_data= spark.sql(\"SELECT Company,sector,FIRST(Open) as open_day, LAST(Close) as close_day from clean_data group by Company,sector \")\n",
        "firstKPI=final_data.withColumn(\"Percentage_Change\",((final_data[\"close_day\"]-final_data[\"open_day\"])/final_data[\"open_day\"])*100)\n",
        "firstKPI.show(5)\n",
        "firstKPI.createOrReplaceTempView(\"firstKPI\")"
      ]
    },
    {
      "cell_type": "code",
      "source": [
        "## 1st KPI Above 5% growth company\n",
        "spark.sql(\"select * from firstKPI where Percentage_Change>5\").show()\n",
        "KPI1=spark.sql(\"select * from firstKPI where Percentage_Change>5\")\n",
        "KPI1.coalesce(1).write.mode('overwrite').format(\"csv\").save(\"KPI1.csv\")"
      ],
      "metadata": {
        "colab": {
          "base_uri": "https://localhost:8080/"
        },
        "id": "kaS4y70gqiFF",
        "outputId": "baac57b7-7ac5-448f-b60f-441efeb3c911"
      },
      "execution_count": null,
      "outputs": [
        {
          "output_type": "stream",
          "name": "stdout",
          "text": [
            "+--------------------+--------------------+--------+---------+------------------+\n",
            "|             Company|              sector|open_day|close_day| Percentage_Change|\n",
            "+--------------------+--------------------+--------+---------+------------------+\n",
            "|    ABBOTT INDIA LTD|Pharmaceuticals &...| 1469.95|  1761.21|19.814279397258407|\n",
            "|   ASHOK LEYLAND LTD|          Automobile|   23.00|   145.00| 530.4347826086956|\n",
            "|Asian Paints Limited|Fast Moving Consu...|  258.00|  2828.20| 996.2015503875967|\n",
            "|Aurobindo Pharma ...|Pharmaceuticals &...|   43.00|   466.50| 984.8837209302326|\n",
            "|      BAJAJ AUTO LTD|          Automobile| 1595.00|  3733.85|134.09717868338558|\n",
            "|BHARAT IMMUNOLOGI...|Pharmaceuticals &...|    7.98|    24.04|201.25313283208018|\n",
            "|          BIOCON LTD|Pharmaceuticals &...|   45.90|   226.45| 393.3551198257081|\n",
            "|BIOFIL CHEMICALS ...|Pharmaceuticals &...|    5.50|    44.68| 712.3636363636364|\n",
            "|BRITANNIA INDUSTR...|Fast Moving Consu...|  222.50|  4414.35|1883.9775280898878|\n",
            "|          CIPLA LTD |Pharmaceuticals &...|  320.25|   881.05|175.11319281811083|\n",
            "|     DABUR INDIA LTD|Fast Moving Consu...|  100.15|   534.85| 434.0489266100849|\n",
            "|Divi's Laboratori...|Pharmaceuticals &...|  392.42|  1761.21|348.80740023444264|\n",
            "|   EICHER MOTORS LTD|          Automobile|  148.20|  3129.35|2011.5721997300948|\n",
            "|    FORCE MOTORS LTD|          Automobile|  438.50|  1253.65| 185.8950969213227|\n",
            "|GLENMARK PHARMACE...|Pharmaceuticals &...|  292.05|   421.20|44.221879815100145|\n",
            "|GODREJ CONSUMER P...|Fast Moving Consu...|  129.00|   925.90| 617.7519379844961|\n",
            "|HCL TECHNOLOGIES LTD|                  IT|   96.81|  1119.15|1056.0272699101336|\n",
            "|HINDUSTAN MOTORS LTD|          Automobile|    8.60|    13.72|59.534883720930246|\n",
            "|HINDUSTAN UNILEVE...|Fast Moving Consu...|  408.00|  2470.05|505.40441176470597|\n",
            "|Hatsun Agro Produ...|Fast Moving Consu...|   47.21|   897.00| 1800.021181952976|\n",
            "+--------------------+--------------------+--------+---------+------------------+\n",
            "only showing top 20 rows\n",
            "\n"
          ]
        }
      ]
    },
    {
      "cell_type": "code",
      "source": [
        "#2nd KPI Below 5% down company\n",
        "spark.sql(\"select * from firstKPI where Percentage_Change<5\").show()\n",
        "KPI2=spark.sql(\"select * from firstKPI where Percentage_Change<5\")\n",
        "KPI2.coalesce(1).write.mode('overwrite').format(\"csv\").save(\"KPI2.csv\")"
      ],
      "metadata": {
        "colab": {
          "base_uri": "https://localhost:8080/"
        },
        "id": "EFgLrLG52Z7J",
        "outputId": "641cd357-e0f9-4f08-c7c0-64ad44841a78"
      },
      "execution_count": null,
      "outputs": [
        {
          "output_type": "stream",
          "name": "stdout",
          "text": [
            "+------------------+----------+--------+---------+-------------------+\n",
            "|           Company|    sector|open_day|close_day|  Percentage_Change|\n",
            "+------------------+----------+--------+---------+-------------------+\n",
            "|  Mindtree Limited|        IT|  957.50|   956.12|-0.1441253263707567|\n",
            "|SCOOTERS INDIA LTD|Automobile|   28.70|    27.67|-3.5888501742160197|\n",
            "+------------------+----------+--------+---------+-------------------+\n",
            "\n"
          ]
        }
      ]
    },
    {
      "cell_type": "code",
      "source": [
        "# 3rd KPI 5% growth company \n",
        "firstKPI.createOrReplaceTempView(\"firstKPI\")\n",
        "spark.sql(\"select * from firstKPI where Percentage_Change>5 \").show()\n",
        "KPI3=spark.sql(\"select * from firstKPI where Percentage_Change>5\")\n",
        "KPI3.coalesce(1).write.mode('overwrite').format(\"csv\").save(\"KPI3.csv\")"
      ],
      "metadata": {
        "colab": {
          "base_uri": "https://localhost:8080/"
        },
        "id": "sPXXFBbp2zu-",
        "outputId": "43d0f797-6217-4da8-bf1f-17ed18f654a5"
      },
      "execution_count": null,
      "outputs": [
        {
          "output_type": "stream",
          "name": "stdout",
          "text": [
            "+--------------------+--------------------+--------+---------+------------------+\n",
            "|             Company|              sector|open_day|close_day| Percentage_Change|\n",
            "+--------------------+--------------------+--------+---------+------------------+\n",
            "|    ABBOTT INDIA LTD|Pharmaceuticals &...| 1469.95|  1761.21|19.814279397258407|\n",
            "|   ASHOK LEYLAND LTD|          Automobile|   23.00|   145.00| 530.4347826086956|\n",
            "|Asian Paints Limited|Fast Moving Consu...|  258.00|  2828.20| 996.2015503875967|\n",
            "|Aurobindo Pharma ...|Pharmaceuticals &...|   43.00|   466.50| 984.8837209302326|\n",
            "|      BAJAJ AUTO LTD|          Automobile| 1595.00|  3733.85|134.09717868338558|\n",
            "|BHARAT IMMUNOLOGI...|Pharmaceuticals &...|    7.98|    24.04|201.25313283208018|\n",
            "|          BIOCON LTD|Pharmaceuticals &...|   45.90|   226.45| 393.3551198257081|\n",
            "|BIOFIL CHEMICALS ...|Pharmaceuticals &...|    5.50|    44.68| 712.3636363636364|\n",
            "|BRITANNIA INDUSTR...|Fast Moving Consu...|  222.50|  4414.35|1883.9775280898878|\n",
            "|          CIPLA LTD |Pharmaceuticals &...|  320.25|   881.05|175.11319281811083|\n",
            "|     DABUR INDIA LTD|Fast Moving Consu...|  100.15|   534.85| 434.0489266100849|\n",
            "|Divi's Laboratori...|Pharmaceuticals &...|  392.42|  1761.21|348.80740023444264|\n",
            "|   EICHER MOTORS LTD|          Automobile|  148.20|  3129.35|2011.5721997300948|\n",
            "|    FORCE MOTORS LTD|          Automobile|  438.50|  1253.65| 185.8950969213227|\n",
            "|GLENMARK PHARMACE...|Pharmaceuticals &...|  292.05|   421.20|44.221879815100145|\n",
            "|GODREJ CONSUMER P...|Fast Moving Consu...|  129.00|   925.90| 617.7519379844961|\n",
            "|HCL TECHNOLOGIES LTD|                  IT|   96.81|  1119.15|1056.0272699101336|\n",
            "|HINDUSTAN MOTORS LTD|          Automobile|    8.60|    13.72|59.534883720930246|\n",
            "|HINDUSTAN UNILEVE...|Fast Moving Consu...|  408.00|  2470.05|505.40441176470597|\n",
            "|Hatsun Agro Produ...|Fast Moving Consu...|   47.21|   897.00| 1800.021181952976|\n",
            "+--------------------+--------------------+--------+---------+------------------+\n",
            "only showing top 20 rows\n",
            "\n"
          ]
        }
      ]
    },
    {
      "cell_type": "code",
      "source": [
        "# 4th KPI 5% down company\n",
        "firstKPI.createOrReplaceTempView(\"firstKPI\")\n",
        "spark.sql(\"select * from firstKPI where Percentage_Change<5\").show()\n",
        "KPI4=spark.sql(\"select * from firstKPI where Percentage_Change<5\")\n",
        "KPI4.coalesce(1).write.mode('overwrite').format(\"csv\").save(\"KPI4.csv\")"
      ],
      "metadata": {
        "colab": {
          "base_uri": "https://localhost:8080/"
        },
        "id": "uljDIyR17a9L",
        "outputId": "56895e95-1510-4543-83bd-db3c72c4783d"
      },
      "execution_count": null,
      "outputs": [
        {
          "output_type": "stream",
          "name": "stdout",
          "text": [
            "+------------------+----------+--------+---------+-------------------+\n",
            "|           Company|    sector|open_day|close_day|  Percentage_Change|\n",
            "+------------------+----------+--------+---------+-------------------+\n",
            "|  Mindtree Limited|        IT|  957.50|   956.12|-0.1441253263707567|\n",
            "|SCOOTERS INDIA LTD|Automobile|   28.70|    27.67|-3.5888501742160197|\n",
            "+------------------+----------+--------+---------+-------------------+\n",
            "\n"
          ]
        }
      ]
    },
    {
      "cell_type": "code",
      "source": [
        "# 5th KPI Sector-wise highest growth companies.\n",
        "firstKPI.createOrReplaceTempView(\"firstKPI\")\n",
        "spark.sql(\"select * from (select *,row_number() over (partition by Sector order by Percentage_Change desc) as rn  from (select sector,company,round(Percentage_Change,2) as Percentage_Change from firstKPI where sector is not null)) where rn=1\").show()\n",
        "KPI5=spark.sql(\"select * from (select *,row_number() over (partition by Sector order by Percentage_Change desc) as rn  from (select sector,company,round(Percentage_Change,2) as Percentage_Change from firstKPI where sector is not null)) where rn=1 \")\n",
        "KPI5.coalesce(1).write.mode('overwrite').format(\"csv\").save(\"KPI5.csv\")"
      ],
      "metadata": {
        "colab": {
          "base_uri": "https://localhost:8080/"
        },
        "id": "cjyt86QG9BDW",
        "outputId": "5164c3e7-6273-4f56-ea62-c70cdb73c721"
      },
      "execution_count": null,
      "outputs": [
        {
          "output_type": "stream",
          "name": "stdout",
          "text": [
            "+--------------------+--------------------+-----------------+---+\n",
            "|              sector|             company|Percentage_Change| rn|\n",
            "+--------------------+--------------------+-----------------+---+\n",
            "|          Automobile|   EICHER MOTORS LTD|          2011.57|  1|\n",
            "|Fast Moving Consu...|BRITANNIA INDUSTR...|          1883.98|  1|\n",
            "|                  IT|      TATA ELXSI LTD|          2428.32|  1|\n",
            "|Pharmaceuticals &...|NATURAL CAPSULES ...|           1047.8|  1|\n",
            "+--------------------+--------------------+-----------------+---+\n",
            "\n"
          ]
        }
      ]
    },
    {
      "cell_type": "code",
      "source": [
        "# 6th KPI Sector-wise lowest growth companies.\n",
        "firstKPI.createOrReplaceTempView(\"firstKPI\")\n",
        "spark.sql(\"select * from (select *,row_number() over (partition by Sector order by Percentage_Change ) as rn from (select sector,company,round(Percentage_Change,2)as Percentage_Change from firstKPI where sector is not null and Percentage_Change is not null )) where rn=1\").show()\n",
        "KPI6=spark.sql(\"select * from (select *,row_number() over (partition by Sector order by Percentage_Change ) as rn  from (select sector,company,round(Percentage_Change,2)as Percentage_Change from firstKPI where sector is not null and Percentage_Change is not null )) where rn=1\")\n",
        "KPI6.coalesce(1).write.mode('overwrite').format(\"csv\").save(\"KPI6.csv\")"
      ],
      "metadata": {
        "colab": {
          "base_uri": "https://localhost:8080/"
        },
        "id": "Y8_PPnms9Z2B",
        "outputId": "fe911ea7-3693-41a6-c713-d0471204abfb"
      },
      "execution_count": null,
      "outputs": [
        {
          "output_type": "stream",
          "name": "stdout",
          "text": [
            "+--------------------+--------------------+-----------------+---+\n",
            "|              sector|             company|Percentage_Change| rn|\n",
            "+--------------------+--------------------+-----------------+---+\n",
            "|          Automobile|  SCOOTERS INDIA LTD|            -3.59|  1|\n",
            "|Fast Moving Consu...|             ITC LTD|           184.34|  1|\n",
            "|                  IT|    Mindtree Limited|            -0.14|  1|\n",
            "|Pharmaceuticals &...|VISTA PHARMACEUTI...|             7.47|  1|\n",
            "+--------------------+--------------------+-----------------+---+\n",
            "\n"
          ]
        }
      ]
    }
  ]
}