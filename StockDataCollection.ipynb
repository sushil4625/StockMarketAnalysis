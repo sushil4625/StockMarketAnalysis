{
  "nbformat": 4,
  "nbformat_minor": 0,
  "metadata": {
    "colab": {
      "provenance": [],
      "authorship_tag": "ABX9TyOsu7Rywzcd97ZsNxl0Hlx5",
      "include_colab_link": true
    },
    "kernelspec": {
      "name": "python3",
      "display_name": "Python 3"
    },
    "language_info": {
      "name": "python"
    }
  },
  "cells": [
    {
      "cell_type": "markdown",
      "metadata": {
        "id": "view-in-github",
        "colab_type": "text"
      },
      "source": [
        "<a href=\"https://colab.research.google.com/github/sushil4625/StockMarketAnalysis/blob/main/StockDataCollection.ipynb\" target=\"_parent\"><img src=\"https://colab.research.google.com/assets/colab-badge.svg\" alt=\"Open In Colab\"/></a>"
      ]
    },
    {
      "cell_type": "code",
      "source": [
        "!git clone https://github.com/sushil4625/StockMarketAnalysis"
      ],
      "metadata": {
        "colab": {
          "base_uri": "https://localhost:8080/"
        },
        "id": "FlBy-wMdFxBj",
        "outputId": "e9b77dbd-547d-4cab-bb56-269854720dab"
      },
      "execution_count": 10,
      "outputs": [
        {
          "output_type": "stream",
          "name": "stdout",
          "text": [
            "fatal: destination path 'StockMarketAnalysis' already exists and is not an empty directory.\n"
          ]
        }
      ]
    },
    {
      "cell_type": "code",
      "execution_count": 11,
      "metadata": {
        "colab": {
          "base_uri": "https://localhost:8080/"
        },
        "id": "Iqqbdq_HHIeN",
        "outputId": "39a6a22e-8569-47ef-db46-42d42fa0473d"
      },
      "outputs": [
        {
          "output_type": "stream",
          "name": "stdout",
          "text": [
            "Looking in indexes: https://pypi.org/simple, https://us-python.pkg.dev/colab-wheels/public/simple/\n",
            "Requirement already satisfied: yfinance in /usr/local/lib/python3.9/dist-packages (0.2.12)\n",
            "Requirement already satisfied: numpy>=1.16.5 in /usr/local/lib/python3.9/dist-packages (from yfinance) (1.22.4)\n",
            "Requirement already satisfied: requests>=2.26 in /usr/local/lib/python3.9/dist-packages (from yfinance) (2.28.2)\n",
            "Requirement already satisfied: appdirs>=1.4.4 in /usr/local/lib/python3.9/dist-packages (from yfinance) (1.4.4)\n",
            "Requirement already satisfied: pandas>=1.3.0 in /usr/local/lib/python3.9/dist-packages (from yfinance) (1.3.5)\n",
            "Requirement already satisfied: frozendict>=2.3.4 in /usr/local/lib/python3.9/dist-packages (from yfinance) (2.3.5)\n",
            "Requirement already satisfied: beautifulsoup4>=4.11.1 in /usr/local/lib/python3.9/dist-packages (from yfinance) (4.11.2)\n",
            "Requirement already satisfied: html5lib>=1.1 in /usr/local/lib/python3.9/dist-packages (from yfinance) (1.1)\n",
            "Requirement already satisfied: pytz>=2022.5 in /usr/local/lib/python3.9/dist-packages (from yfinance) (2022.7.1)\n",
            "Requirement already satisfied: lxml>=4.9.1 in /usr/local/lib/python3.9/dist-packages (from yfinance) (4.9.2)\n",
            "Requirement already satisfied: cryptography>=3.3.2 in /usr/local/lib/python3.9/dist-packages (from yfinance) (39.0.2)\n",
            "Requirement already satisfied: multitasking>=0.0.7 in /usr/local/lib/python3.9/dist-packages (from yfinance) (0.0.11)\n",
            "Requirement already satisfied: soupsieve>1.2 in /usr/local/lib/python3.9/dist-packages (from beautifulsoup4>=4.11.1->yfinance) (2.4)\n",
            "Requirement already satisfied: cffi>=1.12 in /usr/local/lib/python3.9/dist-packages (from cryptography>=3.3.2->yfinance) (1.15.1)\n",
            "Requirement already satisfied: six>=1.9 in /usr/local/lib/python3.9/dist-packages (from html5lib>=1.1->yfinance) (1.15.0)\n",
            "Requirement already satisfied: webencodings in /usr/local/lib/python3.9/dist-packages (from html5lib>=1.1->yfinance) (0.5.1)\n",
            "Requirement already satisfied: python-dateutil>=2.7.3 in /usr/local/lib/python3.9/dist-packages (from pandas>=1.3.0->yfinance) (2.8.2)\n",
            "Requirement already satisfied: idna<4,>=2.5 in /usr/local/lib/python3.9/dist-packages (from requests>=2.26->yfinance) (2.10)\n",
            "Requirement already satisfied: charset-normalizer<4,>=2 in /usr/local/lib/python3.9/dist-packages (from requests>=2.26->yfinance) (3.1.0)\n",
            "Requirement already satisfied: urllib3<1.27,>=1.21.1 in /usr/local/lib/python3.9/dist-packages (from requests>=2.26->yfinance) (1.26.14)\n",
            "Requirement already satisfied: certifi>=2017.4.17 in /usr/local/lib/python3.9/dist-packages (from requests>=2.26->yfinance) (2022.12.7)\n",
            "Requirement already satisfied: pycparser in /usr/local/lib/python3.9/dist-packages (from cffi>=1.12->cryptography>=3.3.2->yfinance) (2.21)\n",
            "Looking in indexes: https://pypi.org/simple, https://us-python.pkg.dev/colab-wheels/public/simple/\n",
            "Requirement already satisfied: yahoofinancials in /usr/local/lib/python3.9/dist-packages (1.14)\n",
            "Requirement already satisfied: pytz in /usr/local/lib/python3.9/dist-packages (from yahoofinancials) (2022.7.1)\n",
            "Requirement already satisfied: requests>=2.26 in /usr/local/lib/python3.9/dist-packages (from yahoofinancials) (2.28.2)\n",
            "Requirement already satisfied: idna<4,>=2.5 in /usr/local/lib/python3.9/dist-packages (from requests>=2.26->yahoofinancials) (2.10)\n",
            "Requirement already satisfied: certifi>=2017.4.17 in /usr/local/lib/python3.9/dist-packages (from requests>=2.26->yahoofinancials) (2022.12.7)\n",
            "Requirement already satisfied: urllib3<1.27,>=1.21.1 in /usr/local/lib/python3.9/dist-packages (from requests>=2.26->yahoofinancials) (1.26.14)\n",
            "Requirement already satisfied: charset-normalizer<4,>=2 in /usr/local/lib/python3.9/dist-packages (from requests>=2.26->yahoofinancials) (3.1.0)\n"
          ]
        }
      ],
      "source": [
        "\n",
        "!pip install yfinance\n",
        "!pip install yahoofinancials"
      ]
    },
    {
      "cell_type": "code",
      "source": [
        "import pandas as pd\n",
        "from datetime import date,time,datetime,timedelta\n",
        "from yahoofinancials import YahooFinancials as yf\n",
        "import yfinance as yc\n",
        "import pytz"
      ],
      "metadata": {
        "id": "55JWRSdYHv3C"
      },
      "execution_count": 12,
      "outputs": []
    },
    {
      "cell_type": "code",
      "source": [
        "datetime_india = datetime.now(pytz.timezone('Asia/Kolkata'))\n",
        "print(\"Formatted DateTime in IST : \", datetime_india.strftime('%Y:%m:%d %H:%M:%S %Z %z'))\n",
        "print(type(datetime_india))\n",
        "date_time=str(datetime_india.strftime('%Y:%m:%d %H:%M:%S %Z %z'))\n",
        "print(type(date_time))\n",
        "file_path=date_time"
      ],
      "metadata": {
        "colab": {
          "base_uri": "https://localhost:8080/"
        },
        "id": "HWVPIITxHwuf",
        "outputId": "289def95-0b17-4f95-ec43-3003c32d9bd3"
      },
      "execution_count": 13,
      "outputs": [
        {
          "output_type": "stream",
          "name": "stdout",
          "text": [
            "Formatted DateTime in IST :  2023:03:12 19:24:17 IST +0530\n",
            "<class 'datetime.datetime'>\n",
            "<class 'str'>\n"
          ]
        }
      ]
    },
    {
      "cell_type": "code",
      "source": [
        "def read_equity_data(path):\n",
        "  data=pd.read_excel(path,sheet_name=\"IT\")\n",
        "  return(data)"
      ],
      "metadata": {
        "id": "Qef-AR7pH7YO"
      },
      "execution_count": 14,
      "outputs": []
    },
    {
      "cell_type": "code",
      "source": [
        "def get_data(company_symbol):\n",
        "      stock_data=yc.download(comapany_symbol,start =\"2012-01-01\",end=date.today())\n",
        "      stock_data=pd.DataFrame(yc.download(company_symbol,start=\"2012-01-01\",end=date.today(),interval=\"1d\",progress=True)).reset_index()\n",
        "      current_price=yf([company_symbol]).get_current_price()\n",
        "      high_year=yf([company_symbol]).get_yearly_high()\n",
        "      low_year=yf([company_symbol]).get_yearly_low()\n",
        "      PE_ratio=yf([comapany_symbol]).get_pe_ratio()\n",
        "      total_revenue=yf([comapany_symbol]).get_total_revenue()\n",
        "      gross_profit=yf([comapany_symbol]).get_gross_profit()\n",
        "      market_cap=yf([comapany_symbol]).get_market_cap()\n",
        "      net_income=yf([comapany_symbol]).get_net_income()\n",
        "\n",
        "\n",
        "      stock_data[\"Low_52\"]=[low_year[company_symbol]]*len(stock_data)\n",
        "      stock_data[\"High_52\"]=[high_year[company_symbol]]*len(stock_data)\n",
        "      stock_data[\"PE_Ratio\"]=[PE_ratio[company_symbol]]*len(stock_data)\n",
        "      stock_data[\"Total_Revenue\"]=[total_revenue[company_symbol]]*len(stock_data)\n",
        "      stock_data[\"Gross_Profit\"]=[gross_profit[company_symbol]]*len(stock_data)\n",
        "      stock_data[\"Market_Cap\"]=[market_cap[company_symbol]]*len(stock_data)\n",
        "      stock_data[\"Net_Company\"]=[net_income[company_symbol]]*len(stock_data)\n",
        "\n",
        "\n",
        "      stock_data[\"BSE\"]=[company_symbol]*len(stock_data)\n",
        "      \n",
        "      return(stock_data)"
      ],
      "metadata": {
        "id": "IHPUttC1H0hU"
      },
      "execution_count": 15,
      "outputs": []
    },
    {
      "cell_type": "code",
      "source": [
        "%%time\n",
        "equity_data=read_equity_data(\"/content/Recent2 (1).xlsx\")\n",
        "all_companies=[]\n",
        "companies_symbols=equity_data['BSE'].unique()\n",
        "for comapany_symbol in (companies_symbols):\n",
        "    try:\n",
        "        company_data=get_data(comapany_symbol)\n",
        "        all_companies.append(company_data)\n",
        "    except Exception as e:\n",
        "        print(e)\n",
        "        #pass\n",
        "all_data=pd.concat(all_companies,axis=0)\n",
        "final_data=equity_data.merge(all_data,on=[\"BSE\"],how=\"outer\")\n",
        "#final_data\n",
        "\n",
        "#final_data.to_csv(file_path )"
      ],
      "metadata": {
        "colab": {
          "base_uri": "https://localhost:8080/"
        },
        "id": "jr6CC_lAIAUb",
        "outputId": "33e2c048-c072-4405-da18-70ea12f8214e"
      },
      "execution_count": null,
      "outputs": [
        {
          "output_type": "stream",
          "name": "stdout",
          "text": [
            "[*********************100%***********************]  1 of 1 completed\n",
            "[*********************100%***********************]  1 of 1 completed\n",
            "[*********************100%***********************]  1 of 1 completed\n",
            "[*********************100%***********************]  1 of 1 completed\n",
            "[*********************100%***********************]  1 of 1 completed\n",
            "[*********************100%***********************]  1 of 1 completed\n",
            "[*********************100%***********************]  1 of 1 completed\n",
            "[*********************100%***********************]  1 of 1 completed\n"
          ]
        }
      ]
    },
    {
      "cell_type": "code",
      "source": [
        "final_data.to_csv(\"ITrawData.csv\")"
      ],
      "metadata": {
        "id": "1gTE60uqN4ag"
      },
      "execution_count": null,
      "outputs": []
    }
  ]
}